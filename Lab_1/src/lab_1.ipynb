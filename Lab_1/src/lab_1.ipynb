{
 "cells": [
  {
   "cell_type": "markdown",
   "metadata": {},
   "source": [
    "# **Sesión 1:** Calibración de Cámara 📷⚙️"
   ]
  },
  {
   "cell_type": "markdown",
   "metadata": {},
   "source": [
    "## **Instalaciones**"
   ]
  },
  {
   "cell_type": "code",
   "execution_count": 2,
   "metadata": {},
   "outputs": [
    {
     "name": "stdout",
     "output_type": "stream",
     "text": [
      "Requirement already satisfied: numpy==1.26 in c:\\users\\enriq\\anaconda3\\lib\\site-packages (1.26.0)\n",
      "Requirement already satisfied: opencv-python==4.8.0.76 in c:\\users\\enriq\\anaconda3\\lib\\site-packages (4.8.0.76)\n"
     ]
    }
   ],
   "source": [
    "# !pip uninstall numpy -y\n",
    "# !pip uninstall opencv-python -y\n",
    "!pip install numpy==1.26 opencv-python==4.8.0.76"
   ]
  },
  {
   "cell_type": "code",
   "execution_count": 38,
   "metadata": {},
   "outputs": [
    {
     "name": "stderr",
     "output_type": "stream",
     "text": [
      "Ya existe el subdirectorio o el archivo ..\\output.\n",
      "Ya existe el subdirectorio o el archivo ..\\output\\left.\n",
      "Ya existe el subdirectorio o el archivo ..\\output\\left_cornersubpix.\n",
      "Ya existe el subdirectorio o el archivo ..\\output\\right.\n",
      "Ya existe el subdirectorio o el archivo ..\\output\\right_cornersubpix.\n",
      "Ya existe el subdirectorio o el archivo ..\\output\\fisheye_cornersubpix.\n"
     ]
    }
   ],
   "source": [
    "# Create necesary directories\n",
    "!mkdir ..\\output\n",
    "!mkdir ..\\output\\left\n",
    "!mkdir ..\\output\\left_cornersubpix\n",
    "!mkdir ..\\output\\right\n",
    "!mkdir ..\\output\\right_cornersubpix\n",
    "!mkdir ..\\output\\fisheye_cornersubpix\n",
    "!mkdir ..\\output\\fisheye_undistorted"
   ]
  },
  {
   "cell_type": "markdown",
   "metadata": {},
   "source": [
    "## **Librerías**"
   ]
  },
  {
   "cell_type": "code",
   "execution_count": 4,
   "metadata": {},
   "outputs": [],
   "source": [
    "from typing import List\n",
    "import numpy as np\n",
    "import imageio\n",
    "import cv2\n",
    "import copy\n",
    "import glob"
   ]
  },
  {
   "cell_type": "markdown",
   "metadata": {},
   "source": [
    "## **Apartado A: Calibración de cámara** (derecha e izquierda)"
   ]
  },
  {
   "cell_type": "markdown",
   "metadata": {},
   "source": [
    "En este apartado se realiza la calibración de dos cámaras de un sistema estereoscópico. Para ello se trabajará con las imágenes de las carpetas ``left`` y ``right``. En primer lugar se trabajará con la carpeta ``left``. Posteriormente, deberá repetir el proceso con las imágenes en la carpeta ``right``. Ambas carpetas contienen imágenes con las que se calibrarán las cámaras. En ellas aparece el patrón de calibración en diferentes posiciones y orientaciones. Estas imágenes serán los datos de entrada.\n",
    "\n",
    "Los pasos que deberá seguir para calibrar una cámara son:\n",
    "\n",
    "1. Defina y ejecute el método para cargar imágenes ``load_images()``.\n",
    "2. Detecte las esquinas de los patrones usando ``cv2.findChessboardCorners()``. Refine las detecciones con ``cv2.cornerSubPix()``.\n",
    "3. Compruebe que las detecciones son correctas dibujando los resultados con ``cv2.drawChessboardCorners()``.\n",
    "4. Defina y ejecute el método ``get_chessboard_points(chessboard_shape, dx, dy)`` que proporcione las coordenadas 3D de las esquinas del patrón. El sistema de referencia utilizado deberá estar anclado al propio patrón.\n",
    "5. Utilice ``cv2.calibrateCamera`` para obtener los parámetros de calibración para la cámara izquierda."
   ]
  },
  {
   "cell_type": "markdown",
   "metadata": {},
   "source": [
    "### **Tarea A.1:** Defina y ejecute el método para cargar imágenes ``load_images()``."
   ]
  },
  {
   "cell_type": "code",
   "execution_count": 5,
   "metadata": {},
   "outputs": [],
   "source": [
    "def load_images(filenames: List) -> List:\n",
    "    return [imageio.imread(filename) for filename in filenames]"
   ]
  },
  {
   "cell_type": "code",
   "execution_count": 6,
   "metadata": {},
   "outputs": [
    {
     "name": "stderr",
     "output_type": "stream",
     "text": [
      "C:\\Users\\enriq\\AppData\\Local\\Temp\\ipykernel_12472\\283608422.py:2: DeprecationWarning: Starting with ImageIO v3 the behavior of this function will switch to that of iio.v3.imread. To keep the current behavior (and make this warning disappear) use `import imageio.v2 as imageio` or call `imageio.v2.imread` directly.\n",
      "  return [imageio.imread(filename) for filename in filenames]\n"
     ]
    }
   ],
   "source": [
    "# TODO Build a list containing the paths of all images from the left camera\n",
    "import os\n",
    "path = '../data/left/'\n",
    "imgs_path = [path + file_name for file_name in os.listdir(path)]\n",
    "imgs = load_images(imgs_path)\n",
    "\n",
    "# Quito la primera imagen porque no me detecta las esquinas\n",
    "imgs = imgs[1:]\n",
    "imgs_left = copy.deepcopy(imgs)"
   ]
  },
  {
   "cell_type": "markdown",
   "metadata": {},
   "source": [
    "### **Tarea A.2:** Detecte las esquinas de los patrones usando ``cv2.findChessboardCorners()``. Refine las detecciones con ``cv2.cornerSubPix()``."
   ]
  },
  {
   "cell_type": "code",
   "execution_count": 7,
   "metadata": {},
   "outputs": [],
   "source": [
    "# TODO Find corners with cv2.findChessboardCorners()\n",
    "corners = [cv2.findChessboardCorners(img, (8, 6)) for img in imgs]"
   ]
  },
  {
   "cell_type": "code",
   "execution_count": 8,
   "metadata": {},
   "outputs": [],
   "source": [
    "corners_copy = copy.deepcopy(corners)\n",
    "criteria = (cv2.TERM_CRITERIA_EPS + cv2.TERM_CRITERIA_MAX_ITER, 30, 0.01)\n",
    "\n",
    "# TODO To refine corner detections with cv2.cornerSubPix() you need to input grayscale images. Build a list containing grayscale images.\n",
    "imgs_gray = [cv2.cvtColor(img, cv2.COLOR_RGB2GRAY) for img in imgs]\n",
    "imgs_gray_left = copy.deepcopy(imgs_gray)\n",
    "\n",
    "corners_refined_left = [cv2.cornerSubPix(i, cor[1], (6, 6), (-1, -1), criteria) if cor[0] else np.array([]) for i, cor in zip(imgs_gray, corners_copy)]"
   ]
  },
  {
   "cell_type": "markdown",
   "metadata": {},
   "source": [
    "### **Tarea A.3:** Compruebe que las detecciones son correctas dibujando los resultados con ``cv2.drawChessboardCorners()``"
   ]
  },
  {
   "cell_type": "code",
   "execution_count": 9,
   "metadata": {},
   "outputs": [],
   "source": [
    "imgs_copy = copy.deepcopy(imgs)"
   ]
  },
  {
   "cell_type": "code",
   "execution_count": 10,
   "metadata": {},
   "outputs": [],
   "source": [
    "# TODO Use cv2.drawChessboardCorners() to draw the corners\n",
    "imgs_corners = [cv2.drawChessboardCorners(img, (8, 6), cor[1], cor[0]) for img, cor in zip(imgs_copy, corners)]"
   ]
  },
  {
   "cell_type": "code",
   "execution_count": 11,
   "metadata": {},
   "outputs": [],
   "source": [
    "# TODO Show images and save when needed\n",
    "\n",
    "def show_image(img):\n",
    "\tcv2.imshow('image', img)\n",
    "\tcv2.waitKey(0)\n",
    "\tcv2.destroyAllWindows()\n",
    "    \n",
    "def write_image(i, img, folder):\n",
    "\tcv2.imwrite(f'../output/{folder}/' + str(i) + '.jpg', img) \n",
    "\n",
    "for i, img in enumerate(imgs_corners):    \n",
    "\tshow_image(img)\n",
    "\twrite_image(i, img, 'left')"
   ]
  },
  {
   "cell_type": "markdown",
   "metadata": {},
   "source": [
    "### **Tarea A.4:** Defina y ejecute el método ``get_chessboard_points(chessboard_shape, dx, dy)``"
   ]
  },
  {
   "cell_type": "code",
   "execution_count": 12,
   "metadata": {},
   "outputs": [],
   "source": [
    "# TODO Design the method. It should return a np.array with np.float32 elements\n",
    "def get_chessboard_points(chessboard_shape, dx, dy):\n",
    "\tpoints = []\n",
    "\tfor i in range(chessboard_shape[1]):\n",
    "\t\tfor j in range(chessboard_shape[0]):\n",
    "\t\t\tpoints.append([i*dx, j*dy, 0])\n",
    "\treturn np.array(points, np.float32)"
   ]
  },
  {
   "cell_type": "code",
   "execution_count": 13,
   "metadata": {},
   "outputs": [],
   "source": [
    "# TODO You need the points for every image, not just one\n",
    "chessboard_points = [get_chessboard_points((8, 6), 30, 30)] * len(imgs)"
   ]
  },
  {
   "cell_type": "markdown",
   "metadata": {},
   "source": [
    "### **Tarea A.5:** Utilice ``cv2.calibrateCamera()`` para obtener los parámetros de calibración para la cámara izquierda"
   ]
  },
  {
   "cell_type": "code",
   "execution_count": 14,
   "metadata": {},
   "outputs": [],
   "source": [
    "# Filter data and get only those with adequate detections\n",
    "valid_corners = [cor[1] for cor in corners if cor[0]]\n",
    "# Convert list to numpy array\n",
    "valid_corners = np.asarray(valid_corners, dtype=np.float32)\n",
    "valid_corners_left = copy.deepcopy(valid_corners)"
   ]
  },
  {
   "cell_type": "code",
   "execution_count": 15,
   "metadata": {},
   "outputs": [],
   "source": [
    "# TODO\n",
    "rms, intrinsics, dist_coeffs, rvecs, tvecs = cv2.calibrateCamera(chessboard_points, valid_corners, imgs_gray[0].shape[::-1], np.zeros((3,3)), np.zeros((1,4)))\n",
    "\n",
    "# Obtain extrinsics\n",
    "extrinsics = list(map(lambda rvec, tvec: np.hstack((cv2.Rodrigues(rvec)[0], tvec)), rvecs, tvecs))"
   ]
  },
  {
   "cell_type": "code",
   "execution_count": 16,
   "metadata": {},
   "outputs": [
    {
     "name": "stdout",
     "output_type": "stream",
     "text": [
      "Intrinsics:\n",
      " [[419.43707122   0.         149.75969166]\n",
      " [  0.         420.8835093  128.61357119]\n",
      " [  0.           0.           1.        ]]\n",
      "Distortion coefficients:\n",
      " [[ 2.42284124e-02 -3.34226604e+00  4.88771677e-03 -6.97578217e-03\n",
      "   2.00632089e+01]]\n",
      "Root mean squared reprojection error:\n",
      " 0.15254912898003242\n"
     ]
    }
   ],
   "source": [
    "# Print outputs\n",
    "print(\"Intrinsics:\\n\", intrinsics)\n",
    "print(\"Distortion coefficients:\\n\", dist_coeffs)\n",
    "print(\"Root mean squared reprojection error:\\n\", rms)"
   ]
  },
  {
   "cell_type": "markdown",
   "metadata": {},
   "source": [
    "### **Pregunta A.1:** Repita el proceso (carga de imágenes, detección y comprobación de esquinas, etc.) para la cámara derecha."
   ]
  },
  {
   "cell_type": "code",
   "execution_count": 17,
   "metadata": {},
   "outputs": [
    {
     "name": "stderr",
     "output_type": "stream",
     "text": [
      "C:\\Users\\enriq\\AppData\\Local\\Temp\\ipykernel_12472\\283608422.py:2: DeprecationWarning: Starting with ImageIO v3 the behavior of this function will switch to that of iio.v3.imread. To keep the current behavior (and make this warning disappear) use `import imageio.v2 as imageio` or call `imageio.v2.imread` directly.\n",
      "  return [imageio.imread(filename) for filename in filenames]\n"
     ]
    }
   ],
   "source": [
    "# TODO Homework\n",
    "\n",
    "path = '../data/right/'\n",
    "imgs_path = [path + file_name for file_name in os.listdir(path)]\n",
    "imgs = load_images(imgs_path)\n",
    "imgs_right = copy.deepcopy(imgs)"
   ]
  },
  {
   "cell_type": "code",
   "execution_count": 18,
   "metadata": {},
   "outputs": [],
   "source": [
    "corners = [cv2.findChessboardCorners(img, (8, 6)) for img in imgs]\n",
    "\n",
    "corners_copy = copy.deepcopy(corners)\n",
    "criteria = (cv2.TERM_CRITERIA_EPS + cv2.TERM_CRITERIA_MAX_ITER, 30, 0.01)\n",
    "\n",
    "imgs_gray = [cv2.cvtColor(img, cv2.COLOR_RGB2GRAY) for img in imgs]"
   ]
  },
  {
   "cell_type": "code",
   "execution_count": 19,
   "metadata": {},
   "outputs": [],
   "source": [
    "imgs_copy = copy.deepcopy(imgs)\n",
    "\n",
    "imgs_corners = [cv2.drawChessboardCorners(img, (8, 6), cor[1], cor[0]) for img, cor in zip(imgs_copy, corners)]\n",
    "\n",
    "for i, img in enumerate(imgs_corners):    \n",
    "\tshow_image(img)\n",
    "\twrite_image(i, img, 'right')"
   ]
  },
  {
   "cell_type": "code",
   "execution_count": 20,
   "metadata": {},
   "outputs": [],
   "source": [
    "def get_valid_imgs(imgs, corners):\n",
    "\tvalid_imgs = []\n",
    "\tvalid_imgs_gray = []\n",
    "\tvalid_corners = []\n",
    "\tfor i, cor in enumerate(corners):\n",
    "\t\tif cor[0]:\n",
    "\t\t\tvalid_imgs.append(imgs[i])\n",
    "\t\t\tvalid_imgs_gray.append(cv2.cvtColor(imgs[i], cv2.COLOR_RGB2GRAY))\n",
    "\t\t\tvalid_corners.append(cor[1])\n",
    "\n",
    "\t# Convert list to numpy array\n",
    "\tvalid_corners = np.asarray(valid_corners, dtype=np.float32)\n",
    "\n",
    "\treturn valid_imgs, valid_imgs_gray, valid_corners\n",
    "\n",
    "valid_imgs_right, valid_imgs_gray_right, valid_corners = get_valid_imgs(imgs_right, corners)\n",
    "valid_corners_right = copy.deepcopy(valid_corners)\n",
    "chessboard_points = [get_chessboard_points((8, 6), 30, 30)] * len(valid_imgs_right)\n",
    "\n",
    "corners_refined_right = [cv2.cornerSubPix(i, cor, (3, 3), (-1, -1), criteria) for i, cor in zip(valid_imgs_gray_right, valid_corners_right)]"
   ]
  },
  {
   "cell_type": "code",
   "execution_count": 21,
   "metadata": {},
   "outputs": [
    {
     "name": "stdout",
     "output_type": "stream",
     "text": [
      "Intrinsics:\n",
      " [[431.71537857   0.         146.86695587]\n",
      " [  0.         434.75795189 137.57408161]\n",
      " [  0.           0.           1.        ]]\n",
      "Distortion coefficients:\n",
      " [[-0.11760795 -0.26326294  0.00634024 -0.00786122  1.68828721]]\n",
      "Root mean squared reprojection error:\n",
      " 0.20463921316160896\n",
      "Extrinsics:\n",
      " [array([[ 6.15913503e-01,  7.14606746e-01,  3.31644019e-01,\n",
      "        -9.17909706e+01],\n",
      "       [ 6.17781957e-01, -1.76873297e-01, -7.66199250e-01,\n",
      "        -3.65664883e+01],\n",
      "       [-4.88872182e-01,  6.76796155e-01, -5.50409806e-01,\n",
      "         5.25925288e+02]]), array([[ 6.01220226e-01,  7.17600875e-01,  3.51544057e-01,\n",
      "        -1.18280061e+02],\n",
      "       [ 6.51692452e-01, -1.85742730e-01, -7.35388731e-01,\n",
      "        -4.62579627e+01],\n",
      "       [-4.62418845e-01,  6.71229188e-01, -5.79327360e-01,\n",
      "         5.17809074e+02]]), array([[ 5.83118753e-01,  7.27505898e-01,  3.61535183e-01,\n",
      "        -1.29643058e+02],\n",
      "       [ 6.82697207e-01, -1.97611154e-01, -7.03473067e-01,\n",
      "        -6.13012932e+01],\n",
      "       [-4.40337420e-01,  6.57027397e-01, -6.11897014e-01,\n",
      "         5.07241573e+02]]), array([[ 5.57204429e-01,  7.49480908e-01,  3.57493488e-01,\n",
      "        -1.22706408e+02],\n",
      "       [ 7.06638790e-01, -2.01876780e-01, -6.78164720e-01,\n",
      "        -7.20090290e+01],\n",
      "       [-4.36101876e-01,  6.30495150e-01, -6.42098917e-01,\n",
      "         5.07753257e+02]]), array([[ 5.40028727e-01,  7.65117340e-01,  3.50662844e-01,\n",
      "        -1.21482350e+02],\n",
      "       [ 7.17120291e-01, -2.00192084e-01, -6.67578922e-01,\n",
      "        -7.73084550e+01],\n",
      "       [-4.40576284e-01,  6.11979236e-01, -6.56790646e-01,\n",
      "         5.14901942e+02]]), array([[ 5.18236960e-01,  7.79346300e-01,  3.52207039e-01,\n",
      "        -1.27518075e+02],\n",
      "       [ 7.34688868e-01, -1.94874044e-01, -6.49812568e-01,\n",
      "        -7.85710188e+01],\n",
      "       [-4.37793010e-01,  5.95519481e-01, -6.73567983e-01,\n",
      "         5.22908435e+02]]), array([[ 4.72429384e-01,  8.00609452e-01,  3.68557978e-01,\n",
      "        -1.35114793e+02],\n",
      "       [ 7.73571796e-01, -1.76260511e-01, -6.08702644e-01,\n",
      "        -8.17878351e+01],\n",
      "       [-4.22370873e-01,  5.72675072e-01, -7.02599536e-01,\n",
      "         5.17386707e+02]]), array([[ 4.31168960e-01,  8.22658293e-01,  3.70576121e-01,\n",
      "        -1.32148477e+02],\n",
      "       [ 8.08331442e-01, -1.69719589e-01, -5.63733572e-01,\n",
      "        -9.97494581e+01],\n",
      "       [-4.00866071e-01,  5.42612748e-01, -7.38158383e-01,\n",
      "         5.20166889e+02]]), array([[ 4.15330625e-01,  8.20330369e-01,  3.93139363e-01,\n",
      "        -1.48732617e+02],\n",
      "       [ 8.26977755e-01, -1.60453523e-01, -5.38852911e-01,\n",
      "        -1.02325297e+02],\n",
      "       [-3.78956811e-01,  5.48919624e-01, -7.45036229e-01,\n",
      "         5.21997464e+02]]), array([[ 4.01193325e-01,  8.25213492e-01,  3.97575915e-01,\n",
      "        -1.62929742e+02],\n",
      "       [ 8.41183750e-01, -1.60114950e-01, -5.16500825e-01,\n",
      "        -1.06998430e+02],\n",
      "       [-3.62565602e-01,  5.41651082e-01, -7.58393229e-01,\n",
      "         5.26922118e+02]]), array([[ 3.92315522e-01,  8.46285749e-01,  3.60401112e-01,\n",
      "        -1.56662751e+02],\n",
      "       [ 8.43947027e-01, -1.75335181e-01, -5.06962513e-01,\n",
      "        -9.48546882e+01],\n",
      "       [-3.65844156e-01,  5.03048710e-01, -7.83007055e-01,\n",
      "         5.44526729e+02]]), array([[ 3.50135968e-01,  8.67873777e-01,  3.52420078e-01,\n",
      "        -1.64587307e+02],\n",
      "       [ 8.66394421e-01, -1.57052289e-01, -4.74020343e-01,\n",
      "        -8.34946348e+01],\n",
      "       [-3.56041445e-01,  4.71306361e-01, -8.06910654e-01,\n",
      "         5.74789850e+02]]), array([[ 3.43677289e-01,  8.75646990e-01,  3.39305570e-01,\n",
      "        -1.76368314e+02],\n",
      "       [ 8.71472962e-01, -1.62767659e-01, -4.62646264e-01,\n",
      "        -7.23615777e+01],\n",
      "       [-3.49886835e-01,  4.54696644e-01, -8.19042224e-01,\n",
      "         5.91889683e+02]]), array([[ 3.14049397e-01,  8.86658985e-01,  3.39424248e-01,\n",
      "        -1.95000036e+02],\n",
      "       [ 8.94522579e-01, -1.56544882e-01, -4.18715961e-01,\n",
      "        -7.27208222e+01],\n",
      "       [-3.18123140e-01,  4.35120149e-01, -8.42299308e-01,\n",
      "         5.99501897e+02]]), array([[ 2.33534521e-01,  9.32205073e-01,  2.76505568e-01,\n",
      "        -1.70827782e+02],\n",
      "       [ 9.34964991e-01, -1.37192288e-01, -3.27137189e-01,\n",
      "        -1.10319589e+02],\n",
      "       [-2.67024516e-01,  3.34920853e-01, -9.03618244e-01,\n",
      "         6.09995453e+02]]), array([[ 2.26378253e-01,  9.44612661e-01,  2.37612725e-01,\n",
      "        -1.62168125e+02],\n",
      "       [ 9.37387294e-01, -1.44988486e-01, -3.16675543e-01,\n",
      "        -1.00917410e+02],\n",
      "       [-2.64684618e-01,  2.94423606e-01, -9.18290147e-01,\n",
      "         6.24765314e+02]]), array([[ 2.29289928e-01,  9.51589821e-01,  2.04702082e-01,\n",
      "        -1.45059431e+02],\n",
      "       [ 9.30032422e-01, -1.52138216e-01, -3.34505093e-01,\n",
      "        -9.24031862e+01],\n",
      "       [-2.87168632e-01,  2.67078222e-01, -9.19893146e-01,\n",
      "         6.40371382e+02]]), array([[ 2.28380815e-01,  9.54032549e-01,  1.94072405e-01,\n",
      "        -1.34818014e+02],\n",
      "       [ 9.31137736e-01, -1.55832534e-01, -3.29694916e-01,\n",
      "        -9.54822701e+01],\n",
      "       [-2.84296886e-01,  2.56004133e-01, -9.23924869e-01,\n",
      "         6.45861973e+02]])]\n"
     ]
    }
   ],
   "source": [
    "rms, intrinsics, dist_coeffs, rvecs, tvecs = cv2.calibrateCamera(chessboard_points, valid_corners, valid_imgs_gray_right[0].shape[::-1], np.zeros((3,3)), np.zeros((1,4)))\n",
    "\n",
    "# Obtain extrinsics\n",
    "extrinsics = list(map(lambda rvec, tvec: np.hstack((cv2.Rodrigues(rvec)[0], tvec)), rvecs, tvecs))\n",
    "\n",
    "# Print outputs\n",
    "print(\"Intrinsics:\\n\", intrinsics)\n",
    "print(\"Distortion coefficients:\\n\", dist_coeffs)\n",
    "print(\"Root mean squared reprojection error:\\n\", rms)\n",
    "print(\"Extrinsics:\\n\", extrinsics)"
   ]
  },
  {
   "cell_type": "markdown",
   "metadata": {},
   "source": [
    "### **Pregunta A.2:** Diferencias entre cv2.findChessboardCorners() y cv2.cornerSubPix()"
   ]
  },
  {
   "cell_type": "code",
   "execution_count": 22,
   "metadata": {},
   "outputs": [],
   "source": [
    "# TODO Homework\n",
    "imgs_corners_left = [cv2.drawChessboardCorners(img, (8, 6), cor, True) for img, cor in zip(imgs_left, corners_refined_left)]\n",
    "imgs_corners_right = [cv2.drawChessboardCorners(img, (8, 6), cor, True) for img, cor in zip(valid_imgs_right, corners_refined_right)]\n",
    "\n",
    "for i, img in enumerate(imgs_corners_left):    \n",
    "\tshow_image(img)\n",
    "\twrite_image(i, img, 'left_cornersubpix')\n",
    "\n",
    "for i, img in enumerate(imgs_corners_right):    \n",
    "\tshow_image(img)\n",
    "\twrite_image(i, img, 'right_cornersubpix')"
   ]
  },
  {
   "cell_type": "markdown",
   "metadata": {},
   "source": [
    "#### Error de left con cv.cornerSubPix()"
   ]
  },
  {
   "cell_type": "code",
   "execution_count": 23,
   "metadata": {},
   "outputs": [
    {
     "name": "stdout",
     "output_type": "stream",
     "text": [
      "Intrinsics:\n",
      " [[420.34844385   0.         149.49830627]\n",
      " [  0.         421.09434871 128.8368256 ]\n",
      " [  0.           0.           1.        ]]\n",
      "Distortion coefficients:\n",
      " [[-2.33350267e-02 -2.13281958e+00  4.05360055e-03 -6.81871867e-03\n",
      "   1.12715657e+01]]\n",
      "Root mean squared reprojection error:\n",
      " 0.09147505617249294\n"
     ]
    }
   ],
   "source": [
    "rms, intrinsics, dist_coeffs, rvecs, tvecs = cv2.calibrateCamera(chessboard_points, corners_refined_left, imgs_gray_left[0].shape[::-1], np.zeros((3,3)), np.zeros((1,4)))\n",
    "\n",
    "# Obtain extrinsics\n",
    "extrinsics = list(map(lambda rvec, tvec: np.hstack((cv2.Rodrigues(rvec)[0], tvec)), rvecs, tvecs))\n",
    "\n",
    "# Print outputs\n",
    "print(\"Intrinsics:\\n\", intrinsics)\n",
    "print(\"Distortion coefficients:\\n\", dist_coeffs)\n",
    "print(\"Root mean squared reprojection error:\\n\", rms)"
   ]
  },
  {
   "cell_type": "markdown",
   "metadata": {},
   "source": [
    "#### Error de right con cv.cornerSubPix()"
   ]
  },
  {
   "cell_type": "code",
   "execution_count": 24,
   "metadata": {},
   "outputs": [
    {
     "name": "stdout",
     "output_type": "stream",
     "text": [
      "Intrinsics:\n",
      " [[430.76992911   0.         145.23316559]\n",
      " [  0.         432.06924533 136.97901747]\n",
      " [  0.           0.           1.        ]]\n",
      "Distortion coefficients:\n",
      " [[-0.11610352 -0.1381798   0.00705097 -0.00595672  1.18788066]]\n",
      "Root mean squared reprojection error:\n",
      " 0.10760044853606197\n"
     ]
    }
   ],
   "source": [
    "rms, intrinsics, dist_coeffs, rvecs, tvecs = cv2.calibrateCamera(chessboard_points, corners_refined_right, valid_imgs_gray_right[0].shape[::-1], np.zeros((3,3)), np.zeros((1,4)))\n",
    "\n",
    "# Obtain extrinsics\n",
    "extrinsics = list(map(lambda rvec, tvec: np.hstack((cv2.Rodrigues(rvec)[0], tvec)), rvecs, tvecs))\n",
    "\n",
    "# Print outputs\n",
    "print(\"Intrinsics:\\n\", intrinsics)\n",
    "print(\"Distortion coefficients:\\n\", dist_coeffs)\n",
    "print(\"Root mean squared reprojection error:\\n\", rms)"
   ]
  },
  {
   "cell_type": "markdown",
   "metadata": {},
   "source": [
    "### **Pregunta A.3:** Número mínimo de imágenes necesarias para calibrar."
   ]
  },
  {
   "cell_type": "code",
   "execution_count": 25,
   "metadata": {},
   "outputs": [],
   "source": [
    "# TODO Homework\n",
    "import matplotlib.pyplot as plt"
   ]
  },
  {
   "cell_type": "markdown",
   "metadata": {},
   "source": [
    "### LEFT"
   ]
  },
  {
   "cell_type": "code",
   "execution_count": 26,
   "metadata": {},
   "outputs": [
    {
     "data": {
      "image/png": "[encoded data removed]",
      "text/plain": [
       "<Figure size 640x480 with 1 Axes>"
      ]
     },
     "metadata": {},
     "output_type": "display_data"
    }
   ],
   "source": [
    "rms_list = []\n",
    "for i in range(1, len(imgs_gray_left) + 1):\n",
    "\tchessboard_points = [get_chessboard_points((8, 6), 30, 30)] * i\n",
    "\tcorners_refined_left_i = corners_refined_left[:i]\n",
    "\timgs_gray_left_i = imgs_gray_left[:i]\n",
    "\n",
    "\trms, intrinsics, dist_coeffs, rvecs, tvecs = cv2.calibrateCamera(chessboard_points, corners_refined_left_i, imgs_gray_left_i[0].shape[::-1], np.zeros((3,3)), np.zeros((1,4)))\n",
    "\trms_list.append(rms)\n",
    "\n",
    "# Hacer un diagrama de Pareto haciendo discreto el eje x, con la  linea azul\n",
    "plt.plot(range(1, len(imgs_gray_left) + 1), rms_list, c='b', marker='o')\n",
    "plt.xlabel('Number of images')\n",
    "plt.ylabel('RMS')\n",
    "plt.title('RMS vs Number of images on left camera')\n",
    "plt.xticks(range(1, len(imgs_gray_left) + 1))\n",
    "plt.grid()\n",
    "plt.show()"
   ]
  },
  {
   "cell_type": "markdown",
   "metadata": {},
   "source": [
    "### RIGHT"
   ]
  },
  {
   "cell_type": "code",
   "execution_count": 27,
   "metadata": {},
   "outputs": [
    {
     "data": {
      "image/png": "[encoded data removed]",
      "text/plain": [
       "<Figure size 640x480 with 1 Axes>"
      ]
     },
     "metadata": {},
     "output_type": "display_data"
    }
   ],
   "source": [
    "rms_list = []\n",
    "for i in range(1, len(valid_imgs_gray_right) + 1):\n",
    "\tchessboard_points = [get_chessboard_points((8, 6), 30, 30)] * i\n",
    "\tcorners_refined_right_i = corners_refined_right[:i]\n",
    "\timgs_gray_right_i = valid_imgs_gray_right[:i]\n",
    "\n",
    "\trms, intrinsics, dist_coeffs, rvecs, tvecs = cv2.calibrateCamera(chessboard_points, corners_refined_right_i, imgs_gray_right_i[0].shape[::-1], np.zeros((3,3)), np.zeros((1,4)))\n",
    "\trms_list.append(rms)\n",
    "\n",
    "# Hacer un diagrama de Pareto haciendo discreto el eje x, con la  linea azul\n",
    "plt.plot(range(1, len(imgs_gray_left) + 1), rms_list, c='b', marker='o')\n",
    "plt.xlabel('Number of images')\n",
    "plt.ylabel('RMS')\n",
    "plt.title('RMS vs Number of images on right camera')\n",
    "plt.xticks(range(1, len(imgs_gray_left) + 1))\n",
    "plt.grid()\n",
    "plt.show()"
   ]
  },
  {
   "cell_type": "markdown",
   "metadata": {},
   "source": [
    "## **Apartado B: Corrección de distorsión** (ojo de pez)"
   ]
  },
  {
   "cell_type": "markdown",
   "metadata": {},
   "source": [
    "En este apartado se trabajará en la corrección de la distorsión debido a lentes de ojo de pez. Primero se calibrará una cámara con este tipo de lente, utilizando las imágenes de la carpeta ``fisheye``. Posteriormente se utilizarán estos parámetros de calibración para corregir la distorsión de una de las imágenes de calibración.\n",
    "\n",
    "Los pasos que deberá seguir para calibrar una cámara con distorsión de ojo de pez son:\n",
    "\n",
    "1. Reutilice el método ``load_images()`` para cargar las imágenes de la carpeta ``fisheye``.\n",
    "2. Detecte las equinas procesando las imágenes con los métodos ``cv2.findChessboardCorners()`` y ``cv2.cornerSubPix()``.\n",
    "3. Reutilice la función ``get_chessboard_points()`` para obtener las coordenadas del tablero.\n",
    "4. Defina los argumentos para la función de calibración.\n",
    "5. Calibre con ``cv2.fisheye.calibrate()``"
   ]
  },
  {
   "cell_type": "markdown",
   "metadata": {},
   "source": [
    "### **Tarea B.1:** Reutilice el método ``load_images()`` para cargar las imágenes de la carpeta ``fisheye``"
   ]
  },
  {
   "cell_type": "code",
   "execution_count": 41,
   "metadata": {},
   "outputs": [
    {
     "name": "stderr",
     "output_type": "stream",
     "text": [
      "C:\\Users\\enriq\\AppData\\Local\\Temp\\ipykernel_12472\\283608422.py:2: DeprecationWarning: Starting with ImageIO v3 the behavior of this function will switch to that of iio.v3.imread. To keep the current behavior (and make this warning disappear) use `import imageio.v2 as imageio` or call `imageio.v2.imread` directly.\n",
      "  return [imageio.imread(filename) for filename in filenames]\n"
     ]
    }
   ],
   "source": [
    "# TODO Build a list containing the paths of all images from the fisheye camera and load images\n",
    "path = \"../data/fisheye/\"\n",
    "fisheye_imgs_path = [path + file_name for file_name in os.listdir(path)]\n",
    "fisheye_imgs = load_images(fisheye_imgs_path)"
   ]
  },
  {
   "cell_type": "markdown",
   "metadata": {},
   "source": [
    "### **Tarea B.2:** Detecte las equinas procesando las imágenes con los métodos ``cv2.findChessboardCorners()`` y ``cv2.cornerSubPix()``."
   ]
  },
  {
   "cell_type": "code",
   "execution_count": 42,
   "metadata": {},
   "outputs": [
    {
     "data": {
      "text/plain": [
       "10"
      ]
     },
     "execution_count": 42,
     "metadata": {},
     "output_type": "execute_result"
    }
   ],
   "source": [
    "fisheye_imgs_copy = copy.deepcopy(fisheye_imgs)\n",
    "imgs_corners = []\n",
    "valid_fisheye_imgs = []\n",
    "# Parameters for cv2.cornerSubPix()\n",
    "subpix_criteria = (cv2.TERM_CRITERIA_EPS+cv2.TERM_CRITERIA_MAX_ITER, 30, 0.1)\n",
    "\n",
    "#TODO Complete the required parts of the loop\n",
    "for img in fisheye_imgs_copy:\n",
    "    \n",
    "    # TODO parse arguments to cv2.findChessboardCorners()\n",
    "    corners = cv2.findChessboardCorners(img, (7, 6))\n",
    "\n",
    "    # TODO convert image to grayscale to use cv2.cornerSubPix()\n",
    "    gray_img = cv2.cvtColor(img, cv2.COLOR_RGB2GRAY)\n",
    "    refined_corners = cv2.cornerSubPix(gray_img, corners[1], (3,3), (-1,-1), subpix_criteria) if corners[0] else np.array([])\n",
    "\n",
    "    # TODO append only those refined_corners with proper detections\n",
    "    imgs_corners.append(refined_corners) if corners[0] else None\n",
    "    valid_fisheye_imgs.append(img) if corners[0] else None\n",
    "\n",
    "imgs_corners = np.asarray(imgs_corners, dtype=np.float32)\n",
    "len(valid_fisheye_imgs)"
   ]
  },
  {
   "cell_type": "code",
   "execution_count": 43,
   "metadata": {},
   "outputs": [],
   "source": [
    "# draw corners\n",
    "imgs_corners_copy = copy.deepcopy(imgs_corners)\n",
    "draw_imgs_corners = [cv2.drawChessboardCorners(img, (7, 6), cor, True) for img, cor in zip(valid_fisheye_imgs, imgs_corners_copy)]\n",
    "\n",
    "for i, img in enumerate(draw_imgs_corners):\n",
    "\tshow_image(img)\n",
    "\twrite_image(i, img, 'fisheye_cornersubpix')"
   ]
  },
  {
   "cell_type": "markdown",
   "metadata": {},
   "source": [
    "### **Tarea B.3:** Reutilice la función ``get_chessboard_points()`` para obtener las coordenadas del tablero"
   ]
  },
  {
   "cell_type": "code",
   "execution_count": 44,
   "metadata": {},
   "outputs": [],
   "source": [
    "# TODO Define the chessboard dimensions and the lenght of the squares (in [mm])\n",
    "chessboard_dims = (7, 6)\n",
    "length = 30\n",
    "fisheye_chessboard_points = np.asarray([get_chessboard_points(chessboard_dims, length, length).reshape(-1, 1, 3)] * len(valid_fisheye_imgs))"
   ]
  },
  {
   "cell_type": "markdown",
   "metadata": {},
   "source": [
    "### **Tarea B.4:** Defina los argumentos para la calibración"
   ]
  },
  {
   "cell_type": "code",
   "execution_count": 45,
   "metadata": {},
   "outputs": [],
   "source": [
    "# Parameters for cv2.fisheye.calibrate()\n",
    "num_imgs = len(valid_fisheye_imgs)\n",
    "\n",
    "calibration_flags = cv2.fisheye.CALIB_FIX_SKEW + cv2.fisheye.CALIB_RECOMPUTE_EXTRINSIC\n",
    "intrinsics = np.zeros((3, 3), dtype=np.float64)\n",
    "distortion = np.zeros((4, 1))\n",
    "rotations = [np.zeros((1, 1, 3), dtype=np.float64) for _ in range(num_imgs)]\n",
    "translations = [np.zeros((1, 1, 3), dtype=np.float64) for _ in range(num_imgs)]"
   ]
  },
  {
   "cell_type": "code",
   "execution_count": 46,
   "metadata": {},
   "outputs": [
    {
     "name": "stdout",
     "output_type": "stream",
     "text": [
      "fisheye_chessboard_points shape: (10, 42, 1, 3)\n",
      "imgs_corners length: 10\n"
     ]
    }
   ],
   "source": [
    "print(f\"fisheye_chessboard_points shape: {fisheye_chessboard_points.shape}\")\n",
    "print(f\"imgs_corners length: {len(imgs_corners)}\")"
   ]
  },
  {
   "cell_type": "markdown",
   "metadata": {},
   "source": [
    "### **Tarea B.5:** Calibración"
   ]
  },
  {
   "cell_type": "code",
   "execution_count": 47,
   "metadata": {},
   "outputs": [],
   "source": [
    "rms, _, _, _, _ = \\\n",
    "cv2.fisheye.calibrate(fisheye_chessboard_points, imgs_corners, gray_img.shape[::-1], intrinsics, distortion, rotations, translations, calibration_flags, subpix_criteria)"
   ]
  },
  {
   "cell_type": "code",
   "execution_count": 48,
   "metadata": {},
   "outputs": [
    {
     "name": "stdout",
     "output_type": "stream",
     "text": [
      "Intrinsics:\n",
      " [[188.86930773   0.         503.92797129]\n",
      " [  0.         185.32647765 373.58041071]\n",
      " [  0.           0.           1.        ]]\n",
      "Distortion coefficients:\n",
      " [[ 0.07734283]\n",
      " [ 0.01482764]\n",
      " [ 0.02351267]\n",
      " [-0.0275728 ]]\n"
     ]
    }
   ],
   "source": [
    "# Show intrinsic matrix and distortion coefficients values\n",
    "print(\"Intrinsics:\\n\", intrinsics)\n",
    "print(\"Distortion coefficients:\\n\", distortion)"
   ]
  },
  {
   "cell_type": "markdown",
   "metadata": {},
   "source": [
    "### **Pregunta B.1:** Corrija la distorsión de las 2 primeras imágenes de la carpeta ``fisheye``"
   ]
  },
  {
   "cell_type": "code",
   "execution_count": 49,
   "metadata": {},
   "outputs": [],
   "source": [
    "# TODO Search in the documentation to define 'dim'\n",
    "dim = gray_img.shape[::-1]\n",
    "map1, map2 = cv2.fisheye.initUndistortRectifyMap(intrinsics, distortion, np.eye(3), intrinsics, dim, cv2.CV_16SC2)"
   ]
  },
  {
   "cell_type": "code",
   "execution_count": 50,
   "metadata": {},
   "outputs": [],
   "source": [
    "# TODO Homework: correct distortion using cv2.remap()\n",
    "undistorted_imgs = [cv2.remap(img, map1, map2, interpolation=cv2.INTER_LINEAR, borderMode=cv2.BORDER_CONSTANT) for img in valid_fisheye_imgs[:2]]\n",
    "\n",
    "for i, img in enumerate(undistorted_imgs):\n",
    "\tshow_image(img)\n",
    "\twrite_image(i, img, 'fisheye_undistorted')"
   ]
  }
 ],
 "metadata": {
  "kernelspec": {
   "display_name": "tnse_delete",
   "language": "python",
   "name": "python3"
  },
  "language_info": {
   "codemirror_mode": {
    "name": "ipython",
    "version": 3
   },
   "file_extension": ".py",
   "mimetype": "text/x-python",
   "name": "python",
   "nbconvert_exporter": "python",
   "pygments_lexer": "ipython3",
   "version": "3.11.7"
  }
 },
 "nbformat": 4,
 "nbformat_minor": 2
}
