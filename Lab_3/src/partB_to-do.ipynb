{
 "cells": [
  {
   "cell_type": "markdown",
   "metadata": {},
   "source": [
    "## **Apartado B:** Detección de lineas rectas\n",
    "El objetivo de este apartado es la detección de líneas y bordes en las imágenes de la carpeta `data`.\n",
    "1. **Tarea B.1.** Aplica cv2.Canny a las imágenes de trabajo ajustando los hiperparámetros\n",
    "3. **Tarea B.2.** Implementa la función `draw_lines()` para pintar las lineas sobre las imágenes\n",
    "4. **Tarea B.3.** Aplica Hough a las imágenes de trabajo para extraer líneas y afine los hiperparámetros\n",
    "5. **Problema B.1.** Repita el procedimiento para extraer las líneas de las dos imágenes restantes"
   ]
  },
  {
   "cell_type": "markdown",
   "metadata": {},
   "source": [
    "### **NOTA**\n",
    "Podéis usar el mismo formato de guardado de resultados y nomenclatura que en partA o hacer uso de la funcion `show_image()` del Lab 2. Usad las herramientas con las que os sintáis más cómodos"
   ]
  },
  {
   "cell_type": "markdown",
   "metadata": {},
   "source": [
    "### **Tarea B.1.** Aplica cv2.Canny a las imágenes de trabajo ajustando los hiperparámetros"
   ]
  },
  {
   "cell_type": "code",
   "execution_count": null,
   "metadata": {},
   "outputs": [],
   "source": [
    "# TODO Apply canny to the images, play with the thresholds to get a good result\n",
    "\n",
    "edge_imgs = []  # to store the canny edge images for later Hough transform\n",
    "\n",
    "# 1st image\n",
    "\n",
    "# Hyperparameters\n",
    "low_threshold = ...\n",
    "high_threshold = ...\n",
    "\n",
    "# get the first image\n",
    "img = ...\n",
    "\n",
    "# Convert to grayscale\n",
    "gray_img = cv2.cvtColor()\n",
    "\n",
    "# Apply Canny edge detection\n",
    "edge_img = cv2.Canny()\n",
    "\n",
    "# Store the edge image for later Hough transform\n",
    "...\n",
    "\n",
    "# Display the image or save it as you like\n",
    "...\n",
    "\n",
    "# 2nd image\n",
    "..."
   ]
  },
  {
   "cell_type": "markdown",
   "metadata": {},
   "source": [
    "### **Tarea B.2.** Implementa `draw_lines()` para pintar las lineas sobre cada imagen"
   ]
  },
  {
   "cell_type": "code",
   "execution_count": null,
   "metadata": {},
   "outputs": [],
   "source": [
    "# TODO Draw the lines on the images. A line is a tuple of 4 integers (x1, y1, x2, y2) where (x1, y1) and (x2, y2) are the coordinates of the two points of the line.\n",
    "def draw_lines(img, lines, color, thickness):\n",
    "    ..."
   ]
  },
  {
   "cell_type": "markdown",
   "metadata": {},
   "source": [
    "### **Tarea B.3.** Aplica Hough a las imágenes de trabajo para extraer líneas y afine los hiperparámetros"
   ]
  },
  {
   "cell_type": "code",
   "execution_count": null,
   "metadata": {},
   "outputs": [],
   "source": [
    "# TODO Apply the hough transform to the images, play with the parameters to get a good result\n",
    "\n",
    "# 1st image\n",
    "\n",
    "# Define the hough transform parameters\n",
    "rho = ...\n",
    "theta = ...\n",
    "threshold = ...\n",
    "min_line_length = ...\n",
    "max_line_gap = ...\n",
    "\n",
    "# Get the edge image\n",
    "edges = ...\n",
    "\n",
    "# Apply the hough transform\n",
    "lines = cv2.HoughLinesP()\n",
    "\n",
    "# Draw the lines on the image (on the original image, make sure to get a copy, as draw_lines modifies the image)\n",
    "draw_lines()\n",
    "\n",
    "# Show the image or save it as you like\n",
    "...\n",
    "\n",
    "# 2nd image\n",
    "..."
   ]
  },
  {
   "cell_type": "markdown",
   "metadata": {},
   "source": [
    "### **Problema B.1.** Repita el procedimiento para extraer las líneas de las dos imágenes restantes"
   ]
  },
  {
   "cell_type": "code",
   "execution_count": null,
   "metadata": {},
   "outputs": [],
   "source": [
    "# TODO Homework"
   ]
  }
 ],
 "metadata": {
  "language_info": {
   "name": "python"
  }
 },
 "nbformat": 4,
 "nbformat_minor": 2
}
